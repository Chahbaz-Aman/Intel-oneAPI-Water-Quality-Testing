{
 "cells": [
  {
   "cell_type": "markdown",
   "id": "85822dfc-6764-4f71-afea-20dc06e5b1a6",
   "metadata": {},
   "source": [
    "# Intel® oneAPI Hackathon for Open Innovation\n",
    "## Machine Learning Challenge Track: Predict the quality of freshwater"
   ]
  },
  {
   "cell_type": "markdown",
   "id": "5655eeb1-8547-469b-9b39-2ce17e613db8",
   "metadata": {},
   "source": [
    "## Table of Contents <a id = 'top'/>\n",
    "* [Utility Functions](#ufunc)\n",
    "* [Data Load](#load)\n",
    "* [Data Preprocessing](#preprocessing)\n",
    "* [Exploratory Data Analysis](#eda)\n",
    "* [Divide & Conquer: Clustering](#clustering)"
   ]
  },
  {
   "cell_type": "markdown",
   "id": "cc9064a6-92f7-40a5-956c-e8f27494302f",
   "metadata": {},
   "source": [
    "[<div style = 'text-align:right'><button>Back to top</button></div>](#top)\n",
    "## Utility Functions <a id='ufunc'/>"
   ]
  },
  {
   "cell_type": "code",
   "execution_count": 18,
   "id": "ae849bc1-6623-4103-8b7d-da6da419f404",
   "metadata": {},
   "outputs": [],
   "source": [
    "# DATA PROCESSING\n",
    "import numpy as np\n",
    "import pandas as pd\n",
    "import joblib\n",
    "pd.set_option('display.max_columns', None)\n",
    "\n",
    "# MACHINE LEARNING\n",
    "#from sklearnex import patch_sklearn\n",
    "#patch_sklearn()\n",
    "from sklearn.preprocessing import MinMaxScaler\n",
    "from sklearn.impute import KNNImputer\n",
    "from sklearn.decomposition import PCA\n",
    "from sklearn.preprocessing import StandardScaler\n",
    "from sklearn.metrics import precision_score, recall_score\n",
    "from sklearn.ensemble import RandomForestClassifier\n",
    "from sklearn import metrics\n",
    "from sklearn.linear_model import LogisticRegression\n",
    "from sklearn.naive_bayes import GaussianNB\n",
    "from sklearn.model_selection import train_test_split\n",
    "from sklearn.metrics import confusion_matrix, f1_score, precision_score, recall_score\n",
    "from sklearn.naive_bayes import GaussianNB\n",
    "\n",
    "# MISCELLANEOUS\n",
    "import time\n",
    "import gc\n",
    "import warnings\n",
    "warnings.filterwarnings('ignore')"
   ]
  },
  {
   "cell_type": "code",
   "execution_count": 5,
   "id": "f72cb41a-ac36-4fa0-9940-c3e17854ecce",
   "metadata": {},
   "outputs": [],
   "source": [
    "DATASET_PATH = 'Intermediate_datasets/nn'"
   ]
  },
  {
   "cell_type": "code",
   "execution_count": 6,
   "id": "d051caf8-7645-47d8-a20a-c5c39aa0ca30",
   "metadata": {},
   "outputs": [
    {
     "data": {
      "text/html": [
       "<div>\n",
       "<style scoped>\n",
       "    .dataframe tbody tr th:only-of-type {\n",
       "        vertical-align: middle;\n",
       "    }\n",
       "\n",
       "    .dataframe tbody tr th {\n",
       "        vertical-align: top;\n",
       "    }\n",
       "\n",
       "    .dataframe thead th {\n",
       "        text-align: right;\n",
       "    }\n",
       "</style>\n",
       "<table border=\"1\" class=\"dataframe\">\n",
       "  <thead>\n",
       "    <tr style=\"text-align: right;\">\n",
       "      <th></th>\n",
       "      <th>xgb</th>\n",
       "      <th>nn</th>\n",
       "      <th>Target</th>\n",
       "    </tr>\n",
       "  </thead>\n",
       "  <tbody>\n",
       "    <tr>\n",
       "      <th>0</th>\n",
       "      <td>0.0</td>\n",
       "      <td>0.000383</td>\n",
       "      <td>0.0</td>\n",
       "    </tr>\n",
       "    <tr>\n",
       "      <th>1</th>\n",
       "      <td>0.0</td>\n",
       "      <td>0.000490</td>\n",
       "      <td>0.0</td>\n",
       "    </tr>\n",
       "    <tr>\n",
       "      <th>2</th>\n",
       "      <td>1.0</td>\n",
       "      <td>0.714867</td>\n",
       "      <td>1.0</td>\n",
       "    </tr>\n",
       "    <tr>\n",
       "      <th>3</th>\n",
       "      <td>1.0</td>\n",
       "      <td>0.717048</td>\n",
       "      <td>0.0</td>\n",
       "    </tr>\n",
       "    <tr>\n",
       "      <th>4</th>\n",
       "      <td>1.0</td>\n",
       "      <td>0.716852</td>\n",
       "      <td>1.0</td>\n",
       "    </tr>\n",
       "    <tr>\n",
       "      <th>...</th>\n",
       "      <td>...</td>\n",
       "      <td>...</td>\n",
       "      <td>...</td>\n",
       "    </tr>\n",
       "    <tr>\n",
       "      <th>1089820</th>\n",
       "      <td>1.0</td>\n",
       "      <td>0.716837</td>\n",
       "      <td>1.0</td>\n",
       "    </tr>\n",
       "    <tr>\n",
       "      <th>1089821</th>\n",
       "      <td>0.0</td>\n",
       "      <td>0.013285</td>\n",
       "      <td>0.0</td>\n",
       "    </tr>\n",
       "    <tr>\n",
       "      <th>1089822</th>\n",
       "      <td>0.0</td>\n",
       "      <td>0.044380</td>\n",
       "      <td>0.0</td>\n",
       "    </tr>\n",
       "    <tr>\n",
       "      <th>1089823</th>\n",
       "      <td>0.0</td>\n",
       "      <td>0.000425</td>\n",
       "      <td>0.0</td>\n",
       "    </tr>\n",
       "    <tr>\n",
       "      <th>1089824</th>\n",
       "      <td>1.0</td>\n",
       "      <td>0.716940</td>\n",
       "      <td>1.0</td>\n",
       "    </tr>\n",
       "  </tbody>\n",
       "</table>\n",
       "<p>1089825 rows × 3 columns</p>\n",
       "</div>"
      ],
      "text/plain": [
       "         xgb        nn  Target\n",
       "0        0.0  0.000383     0.0\n",
       "1        0.0  0.000490     0.0\n",
       "2        1.0  0.714867     1.0\n",
       "3        1.0  0.717048     0.0\n",
       "4        1.0  0.716852     1.0\n",
       "...      ...       ...     ...\n",
       "1089820  1.0  0.716837     1.0\n",
       "1089821  0.0  0.013285     0.0\n",
       "1089822  0.0  0.044380     0.0\n",
       "1089823  0.0  0.000425     0.0\n",
       "1089824  1.0  0.716940     1.0\n",
       "\n",
       "[1089825 rows x 3 columns]"
      ]
     },
     "execution_count": 6,
     "metadata": {},
     "output_type": "execute_result"
    }
   ],
   "source": [
    "result = pd.read_csv(f'{DATASET_PATH}/Result.csv')\n",
    "result_test = pd.read_csv(f'{DATASET_PATH}/Result_Test.csv')\n",
    "result"
   ]
  },
  {
   "cell_type": "code",
   "execution_count": 7,
   "id": "8ab24ac8-ea0a-4d2c-8eeb-ba96ea42ecfe",
   "metadata": {},
   "outputs": [],
   "source": [
    "result_final = pd.concat([result, result_test],ignore_index = True)"
   ]
  },
  {
   "cell_type": "markdown",
   "id": "45b6b330-3132-4159-b7f1-a7f132f25de4",
   "metadata": {},
   "source": [
    "### Logistic Regression"
   ]
  },
  {
   "cell_type": "code",
   "execution_count": 10,
   "id": "269c7b69-d8f4-4497-b02e-989f95e2faaf",
   "metadata": {},
   "outputs": [],
   "source": [
    "X_train, X_test, y_train, y_test = train_test_split(result_final.drop(columns = [\"Target\"]), result_final['Target'].values, test_size=0.1, random_state=42)"
   ]
  },
  {
   "cell_type": "code",
   "execution_count": 11,
   "id": "8000e6b4-fa3e-4652-8bbf-f7ef4f14be3e",
   "metadata": {},
   "outputs": [
    {
     "name": "stdout",
     "output_type": "stream",
     "text": [
      "ACCURACY OF THE MODEL:  0.8940062101542628\n"
     ]
    }
   ],
   "source": [
    "logisticRegression= LogisticRegression()\n",
    "logisticRegression.fit(X_train, y_train)\n",
    "y_pred = logisticRegression.predict(X_test)\n",
    "print(\"ACCURACY OF THE MODEL: \", metrics.accuracy_score(y_test, y_pred))"
   ]
  },
  {
   "cell_type": "code",
   "execution_count": 14,
   "id": "1af4f510-e054-484a-a313-e453b43aad91",
   "metadata": {},
   "outputs": [
    {
     "data": {
      "text/plain": [
       "0.8474511808122467"
      ]
     },
     "execution_count": 14,
     "metadata": {},
     "output_type": "execute_result"
    }
   ],
   "source": [
    "f1_score(y_test, y_pred)"
   ]
  },
  {
   "cell_type": "markdown",
   "id": "daa3474b-bb0d-4820-86b6-512dc180f8d2",
   "metadata": {},
   "source": [
    "### Gaussian NB"
   ]
  },
  {
   "cell_type": "code",
   "execution_count": 15,
   "id": "18b7d087-f09f-4d7b-9ed7-ef6fda0f1b30",
   "metadata": {},
   "outputs": [],
   "source": [
    "result_final[\"feature\"] = result_final[\"xgb\"] + result_final[\"nn\"]"
   ]
  },
  {
   "cell_type": "code",
   "execution_count": 16,
   "id": "1c906ff0-0d8c-4a9b-ab71-b4d981c55dac",
   "metadata": {},
   "outputs": [],
   "source": [
    "result_final1 = result_final.drop(columns = ['xgb', 'nn'])"
   ]
  },
  {
   "cell_type": "code",
   "execution_count": 17,
   "id": "98e5f9de-a871-415b-bcdb-c8186fcbb0b2",
   "metadata": {},
   "outputs": [],
   "source": [
    "X_train, X_test, y_train, y_test = train_test_split(result_final1.drop(columns = [\"Target\"]), result_final1['Target'].values, test_size=0.1, random_state=42)"
   ]
  },
  {
   "cell_type": "code",
   "execution_count": 19,
   "id": "48d743a8-5f49-4b2d-9926-fe9b7cd2c164",
   "metadata": {},
   "outputs": [
    {
     "name": "stdout",
     "output_type": "stream",
     "text": [
      "ACCURACY OF THE MODEL:  0.8937336900868761\n"
     ]
    }
   ],
   "source": [
    "model = GaussianNB()\n",
    "model.fit(X_train, y_train)\n",
    "y_pred = model.predict(X_test)\n",
    "print(\"ACCURACY OF THE MODEL: \", metrics.accuracy_score(y_test, y_pred))"
   ]
  },
  {
   "cell_type": "code",
   "execution_count": 20,
   "id": "33cb55aa-db49-40a5-af96-c9284db958cc",
   "metadata": {},
   "outputs": [
    {
     "data": {
      "text/plain": [
       "0.8469297932576785"
      ]
     },
     "execution_count": 20,
     "metadata": {},
     "output_type": "execute_result"
    }
   ],
   "source": [
    "f1_score(y_test, y_pred)"
   ]
  },
  {
   "cell_type": "code",
   "execution_count": null,
   "id": "5de7672e-867e-4dd7-b8c4-4da351dffdba",
   "metadata": {},
   "outputs": [],
   "source": []
  }
 ],
 "metadata": {
  "kernelspec": {
   "display_name": "Python 3 (Intel® oneAPI 2023.0)",
   "language": "python",
   "name": "c009-intel_distribution_of_python_3_oneapi-beta05-python"
  },
  "language_info": {
   "codemirror_mode": {
    "name": "ipython",
    "version": 3
   },
   "file_extension": ".py",
   "mimetype": "text/x-python",
   "name": "python",
   "nbconvert_exporter": "python",
   "pygments_lexer": "ipython3",
   "version": "3.9.15"
  }
 },
 "nbformat": 4,
 "nbformat_minor": 5
}
