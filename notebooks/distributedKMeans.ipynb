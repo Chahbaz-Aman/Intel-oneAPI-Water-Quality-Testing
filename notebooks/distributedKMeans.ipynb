{
 "cells": [
  {
   "cell_type": "code",
   "execution_count": null,
   "id": "3fcf447c-1645-4750-b3e2-631b28b37282",
   "metadata": {},
   "outputs": [],
   "source": [
    "import daal4py as d4p\n",
    "import joblib\n",
    "import pandas as pd\n",
    "import numpy as np\n",
    "import sys"
   ]
  },
  {
   "cell_type": "code",
   "execution_count": null,
   "id": "8a236081-d505-4935-b033-f345ebd6be60",
   "metadata": {},
   "outputs": [],
   "source": [
    "n = sys.argv[1]"
   ]
  },
  {
   "cell_type": "code",
   "execution_count": null,
   "id": "ac02d918-141f-4126-a3ba-fae4169f9ef6",
   "metadata": {},
   "outputs": [],
   "source": [
    "d4p.daalinit() #initializes the distribution engine\n",
    "\n",
    "infile = 'data/chunk{}.csv'.format(str(d4p.my_procid()+1))\n",
    "\n",
    "# read data\n",
    "X = pd.read_csv(infile)"
   ]
  },
  {
   "cell_type": "code",
   "execution_count": null,
   "id": "cb82ce40-d912-45de-91fc-c9a0ed96885f",
   "metadata": {},
   "outputs": [],
   "source": [
    "# computing inital centroids\n",
    "init_result = d4p.kmeans_init(nClusters = int(n), method = \"plusPlusDense\", distributed=True).compute(X)"
   ]
  },
  {
   "cell_type": "code",
   "execution_count": null,
   "id": "1a6fc165-1ca6-401b-a54a-4ce1af99cede",
   "metadata": {},
   "outputs": [],
   "source": [
    "# retrieving and printing inital centroids\n",
    "centroids = init_result.centroids\n",
    "print(\"Here's our centroids:\\n\\n\\n\", centroids, \"\\n\")\n",
    "\n",
    "centroids_filename = './models/kmeans_clustering_'+ n +'_clusters_initcentroids_'+  str(d4p.my_procid()+1) + '.csv'\n",
    "\n",
    "# saving centroids to a file\n",
    "joblib.dump(centroids, centroids_filename)"
   ]
  },
  {
   "cell_type": "code",
   "execution_count": null,
   "id": "5b87d1f1-630d-4ca0-bd41-a2597aca4e12",
   "metadata": {},
   "outputs": [],
   "source": [
    "# loading the initial centroids from a file\n",
    "loaded_centroids = joblib.load(open(centroids_filename, \"rb\"))\n",
    "print(\"Here is our centroids loaded from file:\\n\\n\",loaded_centroids)"
   ]
  },
  {
   "cell_type": "code",
   "execution_count": null,
   "id": "be7f9821-2bc0-4f9e-b635-5f73d6b090bb",
   "metadata": {},
   "outputs": [],
   "source": [
    "# compute the clusters/centroids\n",
    "kmeans_result = d4p.kmeans(nClusters = 3, maxIterations = 5, assignFlag = True).compute(X, init_result.centroids)"
   ]
  },
  {
   "cell_type": "code",
   "execution_count": null,
   "id": "54802bdd-7f42-4c97-a428-f5fc092bc0cf",
   "metadata": {},
   "outputs": [],
   "source": [
    "# retrieving and printing cluster assignments\n",
    "assignments = kmeans_result.assignments\n",
    "print(\"Here is our cluster assignments for first 5 datapoints: \\n\\n\", assignments[:5])"
   ]
  }
 ],
 "metadata": {
  "kernelspec": {
   "display_name": "Python 3 (Intel® oneAPI 2023.0)",
   "language": "python",
   "name": "c009-intel_distribution_of_python_3_oneapi-beta05-python"
  },
  "language_info": {
   "codemirror_mode": {
    "name": "ipython",
    "version": 3
   },
   "file_extension": ".py",
   "mimetype": "text/x-python",
   "name": "python",
   "nbconvert_exporter": "python",
   "pygments_lexer": "ipython3",
   "version": "3.9.15"
  }
 },
 "nbformat": 4,
 "nbformat_minor": 5
}
